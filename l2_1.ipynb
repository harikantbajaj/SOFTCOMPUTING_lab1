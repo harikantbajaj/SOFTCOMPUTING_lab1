{
 "cells": [
  {
   "cell_type": "code",
   "execution_count": 3,
   "metadata": {},
   "outputs": [
    {
     "ename": "NameError",
     "evalue": "name '_name_' is not defined",
     "output_type": "error",
     "traceback": [
      "\u001b[1;31m---------------------------------------------------------------------------\u001b[0m",
      "\u001b[1;31mNameError\u001b[0m                                 Traceback (most recent call last)",
      "Cell \u001b[1;32mIn[3], line 55\u001b[0m\n\u001b[0;32m     52\u001b[0m     \u001b[38;5;28;01mexcept\u001b[39;00m \u001b[38;5;167;01mException\u001b[39;00m \u001b[38;5;28;01mas\u001b[39;00m e:\n\u001b[0;32m     53\u001b[0m         \u001b[38;5;28mprint\u001b[39m(\u001b[38;5;124mf\u001b[39m\u001b[38;5;124m\"\u001b[39m\u001b[38;5;124mError: \u001b[39m\u001b[38;5;132;01m{\u001b[39;00me\u001b[38;5;132;01m}\u001b[39;00m\u001b[38;5;124m\"\u001b[39m)\n\u001b[1;32m---> 55\u001b[0m \u001b[38;5;28;01mif\u001b[39;00m \u001b[43m_name_\u001b[49m \u001b[38;5;241m==\u001b[39m \u001b[38;5;124m\"\u001b[39m\u001b[38;5;124m_main_\u001b[39m\u001b[38;5;124m\"\u001b[39m:\n\u001b[0;32m     56\u001b[0m     main()\n",
      "\u001b[1;31mNameError\u001b[0m: name '_name_' is not defined"
     ]
    }
   ],
   "source": [
    "def is_ordered_and_unique(fuzzy_set):\n",
    "    \"\"\"Check if the fuzzy set is ordered and contains unique elements.\"\"\"\n",
    "    # Check if membership values are ordered\n",
    "    if sorted(fuzzy_set.values(), reverse=True) != list(fuzzy_set.values()):\n",
    "        return False\n",
    "    # Check if elements are unique\n",
    "    if len(fuzzy_set.keys()) != len(set(fuzzy_set.keys())):\n",
    "        return False\n",
    "    return True\n",
    "\n",
    "def get_support(fuzzy_set):\n",
    "    \"\"\"Return the support of the fuzzy set.\"\"\"\n",
    "    return {x for x, mu in fuzzy_set.items() if mu > 0}\n",
    "\n",
    "def get_core(fuzzy_set):\n",
    "    \"\"\"Return the core of the fuzzy set.\"\"\"\n",
    "    return {x for x, mu in fuzzy_set.items() if mu == 1}\n",
    "\n",
    "def is_normal(fuzzy_set):\n",
    "    \"\"\"Check if the fuzzy set is normal.\"\"\"\n",
    "    return any(mu == 1 for mu in fuzzy_set.values())\n",
    "\n",
    "def get_cardinality(fuzzy_set):\n",
    "    \"\"\"Return the cardinality of the fuzzy set.\"\"\"\n",
    "    return sum(fuzzy_set.values())\n",
    "\n",
    "def main():\n",
    "    try:\n",
    "        # Example input: {a1: 0.2, a2: 0.4, a3: 0}\n",
    "        fuzzy_set = eval(input(\"Enter a fuzzy set in the form of a dictionary (e.g., {a1: 0.2, a2: 0.4, a3: 0}): \"))\n",
    "        \n",
    "        # Check if input is a dictionary\n",
    "        if not isinstance(fuzzy_set, dict):\n",
    "            raise ValueError(\"The input must be a dictionary.\")\n",
    "        \n",
    "        # Check if the fuzzy set is ordered and unique\n",
    "        if not is_ordered_and_unique(fuzzy_set):\n",
    "            print(\"Error: The fuzzy set must be ordered by decreasing membership values and have unique elements.\")\n",
    "            return\n",
    "        \n",
    "        # Calculate and print support, core, normality, and cardinality\n",
    "        support = get_support(fuzzy_set)\n",
    "        core = get_core(fuzzy_set)\n",
    "        normality = is_normal(fuzzy_set)\n",
    "        cardinality = get_cardinality(fuzzy_set)\n",
    "        \n",
    "        print(f\"Support: {support}\")\n",
    "        print(f\"Core: {core}\")\n",
    "        print(f\"Normality: {'Yes' if normality else 'No'}\")\n",
    "        print(f\"Cardinality: {cardinality}\")\n",
    "    \n",
    "    except Exception as e:\n",
    "        print(f\"Error: {e}\")\n",
    "\n",
    "if _name_ == \"_main_\":\n",
    "    main()"
   ]
  }
 ],
 "metadata": {
  "kernelspec": {
   "display_name": "venv",
   "language": "python",
   "name": "python3"
  },
  "language_info": {
   "codemirror_mode": {
    "name": "ipython",
    "version": 3
   },
   "file_extension": ".py",
   "mimetype": "text/x-python",
   "name": "python",
   "nbconvert_exporter": "python",
   "pygments_lexer": "ipython3",
   "version": "3.11.0"
  }
 },
 "nbformat": 4,
 "nbformat_minor": 2
}
